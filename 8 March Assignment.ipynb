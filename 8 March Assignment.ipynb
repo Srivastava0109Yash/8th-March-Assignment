{
 "cells": [
  {
   "cell_type": "markdown",
   "id": "4b336b2e",
   "metadata": {},
   "source": [
    "### Q1. What is the Probability density function?"
   ]
  },
  {
   "cell_type": "markdown",
   "id": "b6744082",
   "metadata": {},
   "source": [
    "Probability density function (PDF) is a function that describes the relative likelihood for a random variable to take on a particular value. The PDF is defined as the derivative of the cumulative distribution function (CDF) with respect to the variable of interest.\n",
    "\n",
    "More formally, if X is a continuous random variable with CDF F(x), then the PDF f(x) of X is given by:\n",
    "\n",
    "f(x) = dF(x) / dx\n",
    "\n",
    "where d/dx denotes the derivative with respect to x."
   ]
  },
  {
   "cell_type": "markdown",
   "id": "3ec071d4",
   "metadata": {},
   "source": [
    "### Q2. What are the types of Probability distribution?"
   ]
  },
  {
   "cell_type": "markdown",
   "id": "18bd7160",
   "metadata": {},
   "source": [
    "__Bernoulli distribution__  (pmf): A discrete distribution with two possible outcomes, often used to model a single coin toss or a yes/no outcome.\n",
    "\n",
    "__Binomial distribution__  (pmf): A discrete distribution with n independent trials, each with two possible outcomes, often used to model the number of successes in a fixed number of trials.\n",
    "\n",
    "__Poisson distribution__  (pmf): A discrete distribution that models the probability of a certain number of events occurring in a fixed interval of time or space.\n",
    "\n",
    "__Normal distribution__  (pdf): A continuous distribution that is commonly used to model real-world phenomena such as heights, weights, and IQ scores. It is also known as the Gaussian distribution or bell curve.\n",
    "\n",
    "__Uniform distribution__  (pmf): A continuous distribution where all values in a given range are equally likely to occur, such as the outcome of rolling a fair die."
   ]
  },
  {
   "cell_type": "markdown",
   "id": "21ca4afc",
   "metadata": {},
   "source": [
    "### Q3. Write a Python function to calculate the probability density function of a normal distribution with given mean and standard deviation at a given point."
   ]
  },
  {
   "cell_type": "markdown",
   "id": "95ddcfd9",
   "metadata": {},
   "source": [
    "To calculate the probability density function of a normal distribution at a given point, we can use the formula:\n",
    "\n",
    "f(x) = (1/√(2πσ^2))* (e^(-(a-μ)^2 / (2σ^2)))"
   ]
  },
  {
   "cell_type": "markdown",
   "id": "f3b711fc",
   "metadata": {},
   "source": [
    "where μ is the mean and σ is the standard deviation of the distribution."
   ]
  },
  {
   "cell_type": "code",
   "execution_count": 1,
   "id": "ee0775bd",
   "metadata": {},
   "outputs": [],
   "source": [
    "import math\n",
    "\n",
    "def normal_pdf(x,mu,sig):\n",
    "    \n",
    "    expo=-1*((x-mu)**2 / (2*sig**2))\n",
    "    denom=math.sqrt(2*math.pi*sig**2)\n",
    "    return (1/denom)*math.exp(expo)"
   ]
  },
  {
   "cell_type": "code",
   "execution_count": 2,
   "id": "a79471bd",
   "metadata": {},
   "outputs": [
    {
     "data": {
      "text/plain": [
       "0.024197072451914336"
      ]
     },
     "execution_count": 2,
     "metadata": {},
     "output_type": "execute_result"
    }
   ],
   "source": [
    "normal_pdf(60,50,10)"
   ]
  },
  {
   "cell_type": "markdown",
   "id": "c9d60dc1",
   "metadata": {},
   "source": [
    "### Q4. What are the properties of Binomial distribution? Give two examples of events where binomial distribution can be applied."
   ]
  },
  {
   "cell_type": "markdown",
   "id": "a8f0ba30",
   "metadata": {},
   "source": [
    "__The Binomial distribution__ is a discrete probability distribution that models the number of successes in a fixed number of independent trials, where each trial can either result in a success or a failure. The properties of the Binomial distribution are as follows:\n",
    "\n",
    "1. The trials are independent: the outcome of each trial does not affect the outcome of any other trial.\n",
    "2. There are a fixed number of trials, denoted by n.\n",
    "3. Each trial has only two possible outcomes: success or failure.\n",
    "4. The probability of success is constant for each trial and denoted by p.\n",
    "5. The random variable of interest is the number of successes, denoted by X."
   ]
  },
  {
   "cell_type": "markdown",
   "id": "76d38557",
   "metadata": {},
   "source": [
    "__Two examples of events where the Binomial distribution can be applied are__:\n",
    "\n",
    "__1. Flipping a coin n times and counting the number of times it comes up heads__. This is an example of a Bernoulli trial, where each trial has a probability of success of p=0.5 (assuming a fair coin) and a probability of failure of 1-p=0.5. The number of successes in n trials follows a Binomial distribution with parameters n and p=0.5.\n",
    "\n",
    "__2. Testing n products and counting the number that are defective__. This is an example of a quality control process, where each product is either defective or not defective (success or failure). The probability of a product being defective is denoted by p, and the number of defective products in n trials follows a Binomial distribution with parameters n and p."
   ]
  },
  {
   "cell_type": "markdown",
   "id": "ae7ac808",
   "metadata": {},
   "source": [
    "### Q5. Generate a random sample of size 1000 from a binomial distribution with probability of success 0.4 and plot a histogram of the results using matplotlib."
   ]
  },
  {
   "cell_type": "code",
   "execution_count": 11,
   "id": "998db517",
   "metadata": {},
   "outputs": [],
   "source": [
    "import numpy as np\n",
    "import matplotlib.pyplot as plt"
   ]
  },
  {
   "cell_type": "code",
   "execution_count": 12,
   "id": "9192c932",
   "metadata": {},
   "outputs": [],
   "source": [
    "n=1 # number of trails\n",
    "p=0.4 # probability of success"
   ]
  },
  {
   "cell_type": "code",
   "execution_count": 13,
   "id": "3c091be1",
   "metadata": {},
   "outputs": [],
   "source": [
    "#sample\n",
    "\n",
    "sample=np.random.binomial(n,p,size=1000)"
   ]
  },
  {
   "cell_type": "code",
   "execution_count": 14,
   "id": "c85ff4e8",
   "metadata": {},
   "outputs": [
    {
     "data": {
      "image/png": "[encoded data removed]",
      "text/plain": [
       "<Figure size 432x288 with 1 Axes>"
      ]
     },
     "metadata": {
      "needs_background": "light"
     },
     "output_type": "display_data"
    }
   ],
   "source": [
    "# histogram\n",
    "\n",
    "plt.hist(sample,bins=20,density=True,alpha=0.5)\n",
    "plt.xlabel(\"Number of Success\")\n",
    "plt.ylabel(\"Probability\")\n",
    "plt.title(\"Histogram\")\n",
    "plt.show()"
   ]
  },
  {
   "cell_type": "markdown",
   "id": "85f31ac4",
   "metadata": {},
   "source": [
    "### Q6. Write a Python function to calculate the cumulative distribution function of a Poisson distribution with given mean at a given point."
   ]
  },
  {
   "cell_type": "code",
   "execution_count": 15,
   "id": "a6ba8be5",
   "metadata": {},
   "outputs": [],
   "source": [
    "###   mu : the mean of the Poisson distribution\n",
    "###   n  : the point at which to calculate the CDF "
   ]
  },
  {
   "cell_type": "markdown",
   "id": "e55c6b89",
   "metadata": {},
   "source": [
    "CDF(k) = sum(i=0 to k) (mu^i * e^(-mu)) / i!"
   ]
  },
  {
   "cell_type": "code",
   "execution_count": 16,
   "id": "587e2920",
   "metadata": {},
   "outputs": [],
   "source": [
    "def poissons_cdf(mu,n):\n",
    "    \n",
    "    cdf=0.0\n",
    "    \n",
    "    for i in range(n+1):\n",
    "        cdf+=(mu ** i) * (math.exp(-mu)) / math.factorial(i)\n",
    "        \n",
    "    return cdf          "
   ]
  },
  {
   "cell_type": "code",
   "execution_count": 21,
   "id": "b520bc2c",
   "metadata": {},
   "outputs": [
    {
     "data": {
      "text/plain": [
       "0.8571234604985472"
      ]
     },
     "execution_count": 21,
     "metadata": {},
     "output_type": "execute_result"
    }
   ],
   "source": [
    "poissons_cdf(2,3)"
   ]
  },
  {
   "cell_type": "code",
   "execution_count": 23,
   "id": "b868388e",
   "metadata": {},
   "outputs": [
    {
     "data": {
      "text/plain": [
       "0.42319008112684353"
      ]
     },
     "execution_count": 23,
     "metadata": {},
     "output_type": "execute_result"
    }
   ],
   "source": [
    " poissons_cdf(3, 2)"
   ]
  },
  {
   "cell_type": "markdown",
   "id": "2af89db3",
   "metadata": {},
   "source": [
    "### Q7. How Binomial distribution different from Poisson distribution?"
   ]
  },
  {
   "cell_type": "markdown",
   "id": "c2330bb5",
   "metadata": {},
   "source": [
    "The binomial distribution and the Poisson distribution are both probability distributions that describe the number of events that occur in a given time or space interval. However, they differ in several key ways:\n",
    "\n"
   ]
  },
  {
   "cell_type": "markdown",
   "id": "1e1ccfb5",
   "metadata": {},
   "source": [
    "1. The binomial distribution is used to model the number of successes in a fixed number of trials, \n",
    "\n",
    "whereas the Poisson distribution is used to model the number of rare events in a fixed amount of time or space.\n",
    "\n",
    "2. The binomial distribution requires a fixed number of trials and a fixed probability of success for each trial,\n",
    "\n",
    "while the Poisson distribution only requires a fixed average rate of occurrence of rare events.\n",
    "\n",
    "3. The binomial distribution is discrete and has a finite range of possible values, \n",
    "\n",
    "while the Poisson distribution is also discrete but has an infinite range of possible values.\n",
    "\n",
    "4. The binomial distribution has two parameters: the number of trials and the probability of success for each trial, \n",
    "\n",
    "while the Poisson distribution has only one parameter: the average rate of occurrence of events.\n",
    "\n",
    "5. The shape of the binomial distribution is determined by the number of trials and the probability of success,\n",
    "\n",
    "while the shape of the Poisson distribution is determined by the rate parameter.\n",
    "\n",
    "6. The binomial distribution is symmetric when the probability of success is 0.5, \n",
    "\n",
    "while the Poisson distribution is skewed to the right."
   ]
  },
  {
   "cell_type": "markdown",
   "id": "dd758c23",
   "metadata": {},
   "source": [
    "### Q8. Generate a random sample of size 1000 from a Poisson distribution with mean 5 and calculate the sample mean and variance."
   ]
  },
  {
   "cell_type": "code",
   "execution_count": 26,
   "id": "05bf654a",
   "metadata": {},
   "outputs": [],
   "source": [
    "import numpy as np\n",
    "np.random.seed(123)\n",
    "sample=np.random.poisson(5,size=1000)"
   ]
  },
  {
   "cell_type": "code",
   "execution_count": 30,
   "id": "542821f2",
   "metadata": {},
   "outputs": [
    {
     "name": "stdout",
     "output_type": "stream",
     "text": [
      "Sample Mean: 4.919\n"
     ]
    }
   ],
   "source": [
    "print(\"Sample Mean:\",np.mean(sample))\n"
   ]
  },
  {
   "cell_type": "code",
   "execution_count": 31,
   "id": "9f56d811",
   "metadata": {},
   "outputs": [
    {
     "name": "stdout",
     "output_type": "stream",
     "text": [
      "Sample Variance: 5.030439\n"
     ]
    }
   ],
   "source": [
    "print(\"Sample Variance:\",np.var(sample))"
   ]
  },
  {
   "cell_type": "markdown",
   "id": "306e27e5",
   "metadata": {},
   "source": [
    "### Q9. How mean and variance are related in Binomial distribution and Poisson distribution?"
   ]
  },
  {
   "cell_type": "markdown",
   "id": "869689d2",
   "metadata": {},
   "source": [
    "In the __Binomial distribution__, the mean and variance are related by the formula:"
   ]
  },
  {
   "cell_type": "markdown",
   "id": "d10aed75",
   "metadata": {},
   "source": [
    "mean = n * p\n",
    "\n",
    "variance = n * p * (1 - p)"
   ]
  },
  {
   "cell_type": "markdown",
   "id": "fe01ac9f",
   "metadata": {},
   "source": [
    "where n is the number of trials and p is the probability of success for each trial."
   ]
  },
  {
   "cell_type": "code",
   "execution_count": null,
   "id": "55dab3c2",
   "metadata": {},
   "outputs": [],
   "source": []
  },
  {
   "cell_type": "markdown",
   "id": "4220bed7",
   "metadata": {},
   "source": [
    "In the __Poisson distribution__, the mean and variance are equal and are given by the formula:"
   ]
  },
  {
   "cell_type": "markdown",
   "id": "d7c87d1d",
   "metadata": {},
   "source": [
    "mean = variance = lambda"
   ]
  },
  {
   "cell_type": "markdown",
   "id": "1b422101",
   "metadata": {},
   "source": [
    "where lambda is the average rate of occurrence of events."
   ]
  },
  {
   "cell_type": "markdown",
   "id": "e54f30ad",
   "metadata": {},
   "source": [
    "### Q10. In normal distribution with respect to mean position, where does the least frequent data appear?"
   ]
  },
  {
   "cell_type": "markdown",
   "id": "b730237c",
   "metadata": {},
   "source": [
    "In a normal distribution, the least frequent data points appear at the tails of the distribution, farthest away from the mean. This is because the normal distribution is symmetric around the mean, so the probabilities of observing values increase as you move closer to the mean and decrease as you move farther away from the mean. The tails of the distribution contain the extreme values that are less likely to occur, so they have lower frequencies than the values around the mean.\n",
    "\n",
    "Specifically, for a normal distribution, about 68% of the data is within one standard deviation of the mean, about 95% of the data is within two standard deviations of the mean, and about 99.7% of the data is within three standard deviations of the mean. The remaining 0.3% of the data is in the tails of the distribution, where the values are the least frequent."
   ]
  },
  {
   "cell_type": "code",
   "execution_count": null,
   "id": "5e497638",
   "metadata": {},
   "outputs": [],
   "source": []
  }
 ],
 "metadata": {
  "kernelspec": {
   "display_name": "Python 3 (ipykernel)",
   "language": "python",
   "name": "python3"
  },
  "language_info": {
   "codemirror_mode": {
    "name": "ipython",
    "version": 3
   },
   "file_extension": ".py",
   "mimetype": "text/x-python",
   "name": "python",
   "nbconvert_exporter": "python",
   "pygments_lexer": "ipython3",
   "version": "3.9.7"
  }
 },
 "nbformat": 4,
 "nbformat_minor": 5
}
